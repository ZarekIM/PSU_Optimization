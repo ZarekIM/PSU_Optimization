{
 "cells": [
  {
   "cell_type": "code",
   "execution_count": 252,
   "metadata": {
    "scrolled": false
   },
   "outputs": [
    {
     "name": "stdout",
     "output_type": "stream",
     "text": [
      "[1, 2, 3, 4, 5, 6, 7, 8, 9, 10, 11, 12, 13, 14, 15, 16, 17, 18, 19, 20, 21, 22, 23, 24, 25, 26, 27, 28, 29, 30]\n",
      "[0.0, 0.0022, 0.0095, 0.0151, 0.0302, 0.0406, 0.0554, 0.0779, 0.0937, 0.1188, 0.1432, 0.162, 0.1913, 0.2251, 0.2563, 0.2803, 0.3195, 0.3579, 0.3797, 0.4131, 0.4415, 0.4703, 0.5076, 0.5458, 0.5708, 0.5913, 0.6214, 0.6539, 0.6843, 0.7049]\n",
      "0.5076\n"
     ]
    },
    {
     "data": {
      "image/png": "[encoded data removed]",
      "text/plain": [
       "<matplotlib.figure.Figure at 0x16886eed0f0>"
      ]
     },
     "metadata": {},
     "output_type": "display_data"
    }
   ],
   "source": [
    "#birthday problem:\n",
    "import numpy as np\n",
    "import matplotlib.pyplot as plt\n",
    "\n",
    "# This function performs i runs for each N number of people.\n",
    "# guestList is an array of randomly assigned birthdays for N people.\n",
    "# If any bday is shared by >= 2 people, len(uniqueDays) < len(guestList).\n",
    "# For each iteration of N, the data array is reset.\n",
    "# At each iteration of N, we store the probability of a shared bday in aggregate.\n",
    "def happyBday():\n",
    "    N = 1\n",
    "    aggregate = []\n",
    "    while N <= 30:\n",
    "        data = []\n",
    "        i = 0\n",
    "        while i < 10000:\n",
    "            guestList = [np.random.randint(0, 365) for x in range(N)]\n",
    "            uniqueDays = set(guestList)\n",
    "        \n",
    "            if len(uniqueDays) == len(guestList):\n",
    "                data.extend([0])\n",
    "            else:\n",
    "                data.extend([1])\n",
    "            i += 1\n",
    "        N += 1\n",
    "        aggregate.extend([sum(data) / i])\n",
    "    #Each n'th entry of the resulting array is the est. prob. of a shared bday corresponding to N-1\n",
    "    return aggregate\n",
    "\n",
    "\n",
    "#Now we plot our simulated data\n",
    "y = happyBday()\n",
    "x = [x+1 for x in range(len(y))]\n",
    "#We'll specifically highlight the coordinate at x=23 and it's y-value.\n",
    "t = 23\n",
    "str_rep = '('+str(t)+', '+str(y[t-1])+')'\n",
    "\n",
    "print(x)\n",
    "print(y)\n",
    "print(y[t-1])\n",
    "\n",
    "plt.plot(x, y, color='r')\n",
    "plt.plot(t, y[t-1], marker='o')\n",
    "#This arrow annotation is 'dynamic' such that it will always point t\n",
    "plt.annotate(str_rep, xy=(t,y[t-1]-.02), xytext=(t+1,y[t-1]-0.25), arrowprops=dict(shrink=0.05))\n",
    "plt.xlabel('Number of People')\n",
    "plt.ylabel('Probability')\n",
    "plt.title('Shared Birthday Probability')\n",
    "plt.grid()\n",
    "plt.show()"
   ]
  },
  {
   "cell_type": "code",
   "execution_count": null,
   "metadata": {},
   "outputs": [],
   "source": []
  },
  {
   "cell_type": "code",
   "execution_count": null,
   "metadata": {},
   "outputs": [],
   "source": []
  }
 ],
 "metadata": {
  "kernelspec": {
   "display_name": "Python 3",
   "language": "python",
   "name": "python3"
  },
  "language_info": {
   "codemirror_mode": {
    "name": "ipython",
    "version": 3
   },
   "file_extension": ".py",
   "mimetype": "text/x-python",
   "name": "python",
   "nbconvert_exporter": "python",
   "pygments_lexer": "ipython3",
   "version": "3.6.4"
  }
 },
 "nbformat": 4,
 "nbformat_minor": 2
}
